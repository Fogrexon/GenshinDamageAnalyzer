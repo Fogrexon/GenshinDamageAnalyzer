{
 "cells": [
  {
   "cell_type": "code",
   "execution_count": 1,
   "metadata": {},
   "outputs": [],
   "source": [
    "import cv2\n",
    "from DamageDetector.detector import Detector"
   ]
  },
  {
   "cell_type": "code",
   "execution_count": 5,
   "metadata": {},
   "outputs": [
    {
     "name": "stdout",
     "output_type": "stream",
     "text": [
      "3.5555555555555554 %\n",
      "7.111111111111111 %\n",
      "10.666666666666668 %\n",
      "14.222222222222221 %\n",
      "17.77777777777778 %\n",
      "21.333333333333336 %\n",
      "24.88888888888889 %\n",
      "28.444444444444443 %\n",
      "32.0 %\n",
      "35.55555555555556 %\n",
      "39.111111111111114 %\n",
      "42.66666666666667 %\n",
      "46.22222222222222 %\n",
      "49.77777777777778 %\n",
      "53.333333333333336 %\n",
      "56.888888888888886 %\n",
      "60.44444444444444 %\n",
      "64.0 %\n",
      "67.55555555555556 %\n",
      "71.11111111111111 %\n",
      "74.66666666666667 %\n",
      "78.22222222222223 %\n",
      "81.77777777777779 %\n",
      "85.33333333333334 %\n",
      "88.88888888888889 %\n",
      "92.44444444444444 %\n",
      "96.0 %\n",
      "99.55555555555556 %\n"
     ]
    }
   ],
   "source": [
    "filename = \"videos/rasen\"\n",
    "cap = cv2.VideoCapture('./{}.mp4'.format(filename))\n",
    "fourcc = cv2.VideoWriter_fourcc('m', 'p', '4', 'v')\n",
    "frame_rate = int(cap.get(cv2.CAP_PROP_FPS))\n",
    "width = int(cap.get(cv2.CAP_PROP_FRAME_WIDTH))\n",
    "height = int(cap.get(cv2.CAP_PROP_FRAME_HEIGHT))\n",
    "# out = cv2.VideoWriter('./{}_output.mp4'.format(filename), fourcc, frame_rate, (width, height))\n",
    "colorKey = \"cyro\"\n",
    "prevFrameNumber = []\n",
    "import queue\n",
    "textQueue = queue.Queue()\n",
    "\n",
    "count = 0\n",
    "imageCounter = 0\n",
    "\n",
    "frame_count = int(cap.get(cv2.CAP_PROP_FRAME_COUNT))\n",
    "\n",
    "store_frame = None\n",
    "\n",
    "detector = Detector(scale=0.5)\n",
    "\n",
    "import time\n",
    "\n",
    "while(cap.isOpened()):\n",
    "  ret, frame = cap.read()\n",
    "  count += 1\n",
    "  if count % 24 == 0:\n",
    "    print(count / frame_count * 100, '%')\n",
    "  if (not(ret)):\n",
    "    break\n",
    "  \n",
    "  # frame = detector.binarize(frame, colorKey)\n",
    "  damages = detector.get_damages(frame, colorKey)\n",
    "  for damage in damages:\n",
    "    x, y, w, h = damage[\"rect\"]\n",
    "    text = damage[\"number\"]\n",
    "    frame = cv2.rectangle(frame, (x, y), (x+w, y+h), (0, 255, 0), 2)\n",
    "    frame = cv2.putText(frame, str(text), (x, y + h + 5), cv2.FONT_HERSHEY_SIMPLEX, 1.5, (0, 0, 0), 5)\n",
    "  \n",
    "  cv2.imshow(\"frame\", frame)\n",
    "  if cv2.waitKey(1) & 0xFF == ord('q'):\n",
    "      store_frame = frame\n",
    "      break\n",
    "\n",
    "# out.release()\n",
    "cap.release()\n",
    "cv2.destroyAllWindows()"
   ]
  },
  {
   "cell_type": "code",
   "execution_count": null,
   "metadata": {},
   "outputs": [],
   "source": []
  }
 ],
 "metadata": {
  "interpreter": {
   "hash": "cfd232df1c3604325da8330b3df23b8cfbe295ae9f68e972eca3e8ca72de4dbb"
  },
  "kernelspec": {
   "display_name": "Python 3.8.13 ('opencv')",
   "language": "python",
   "name": "python3"
  },
  "language_info": {
   "codemirror_mode": {
    "name": "ipython",
    "version": 3
   },
   "file_extension": ".py",
   "mimetype": "text/x-python",
   "name": "python",
   "nbconvert_exporter": "python",
   "pygments_lexer": "ipython3",
   "version": "3.8.13"
  },
  "orig_nbformat": 4
 },
 "nbformat": 4,
 "nbformat_minor": 2
}
