{
 "cells": [
  {
   "cell_type": "code",
   "execution_count": 1,
   "metadata": {},
   "outputs": [],
   "source": [
    "import cv2\n",
    "from DamageDetector.detector import Detector"
   ]
  },
  {
   "cell_type": "code",
   "execution_count": 1,
   "metadata": {},
   "outputs": [
    {
     "ename": "NameError",
     "evalue": "name 'cv2' is not defined",
     "output_type": "error",
     "traceback": [
      "\u001b[1;31m---------------------------------------------------------------------------\u001b[0m",
      "\u001b[1;31mNameError\u001b[0m                                 Traceback (most recent call last)",
      "\u001b[1;32mc:\\Users\\ka244\\Anaconda\\genshin\\damagedetector.ipynb Cell 2'\u001b[0m in \u001b[0;36m<cell line: 2>\u001b[1;34m()\u001b[0m\n\u001b[0;32m      <a href='vscode-notebook-cell:/c%3A/Users/ka244/Anaconda/genshin/damagedetector.ipynb#ch0000001?line=0'>1</a>\u001b[0m filename \u001b[39m=\u001b[39m \u001b[39m\"\u001b[39m\u001b[39mvideos/fast-yoimiya\u001b[39m\u001b[39m\"\u001b[39m\n\u001b[1;32m----> <a href='vscode-notebook-cell:/c%3A/Users/ka244/Anaconda/genshin/damagedetector.ipynb#ch0000001?line=1'>2</a>\u001b[0m cap \u001b[39m=\u001b[39m cv2\u001b[39m.\u001b[39mVideoCapture(\u001b[39m'\u001b[39m\u001b[39m./\u001b[39m\u001b[39m{}\u001b[39;00m\u001b[39m.mp4\u001b[39m\u001b[39m'\u001b[39m\u001b[39m.\u001b[39mformat(filename))\n\u001b[0;32m      <a href='vscode-notebook-cell:/c%3A/Users/ka244/Anaconda/genshin/damagedetector.ipynb#ch0000001?line=2'>3</a>\u001b[0m fourcc \u001b[39m=\u001b[39m cv2\u001b[39m.\u001b[39mVideoWriter_fourcc(\u001b[39m'\u001b[39m\u001b[39mm\u001b[39m\u001b[39m'\u001b[39m, \u001b[39m'\u001b[39m\u001b[39mp\u001b[39m\u001b[39m'\u001b[39m, \u001b[39m'\u001b[39m\u001b[39m4\u001b[39m\u001b[39m'\u001b[39m, \u001b[39m'\u001b[39m\u001b[39mv\u001b[39m\u001b[39m'\u001b[39m)\n\u001b[0;32m      <a href='vscode-notebook-cell:/c%3A/Users/ka244/Anaconda/genshin/damagedetector.ipynb#ch0000001?line=3'>4</a>\u001b[0m frame_rate \u001b[39m=\u001b[39m \u001b[39mint\u001b[39m(cap\u001b[39m.\u001b[39mget(cv2\u001b[39m.\u001b[39mCAP_PROP_FPS))\n",
      "\u001b[1;31mNameError\u001b[0m: name 'cv2' is not defined"
     ]
    }
   ],
   "source": [
    "filename = \"videos/fast-yoimiya\"\n",
    "cap = cv2.VideoCapture('./{}.mp4'.format(filename))\n",
    "fourcc = cv2.VideoWriter_fourcc('m', 'p', '4', 'v')\n",
    "frame_rate = int(cap.get(cv2.CAP_PROP_FPS))\n",
    "width = int(cap.get(cv2.CAP_PROP_FRAME_WIDTH))\n",
    "height = int(cap.get(cv2.CAP_PROP_FRAME_HEIGHT))\n",
    "# out = cv2.VideoWriter('./{}_output.mp4'.format(filename), fourcc, frame_rate, (width, height))\n",
    "colorKey = \"pyro\"\n",
    "prevFrameNumber = []\n",
    "import queue\n",
    "textQueue = queue.Queue()\n",
    "\n",
    "count = 0\n",
    "imageCounter = 0\n",
    "\n",
    "frame_count = int(cap.get(cv2.CAP_PROP_FRAME_COUNT))\n",
    "\n",
    "store_frame = None\n",
    "\n",
    "detector = Detector(scale=0.5)\n",
    "\n",
    "import time\n",
    "\n",
    "while(cap.isOpened()):\n",
    "  ret, frame = cap.read()\n",
    "  count += 1\n",
    "  if count % 24 == 0:\n",
    "    print(count / frame_count * 100, '%')\n",
    "  if (not(ret)):\n",
    "    break\n",
    "  \n",
    "  # frame = detector.binarize(frame, colorKey)\n",
    "  damages = detector.get_damages(frame, colorKey)\n",
    "  for damage in damages:\n",
    "    x, y, w, h = damage[\"rect\"]\n",
    "    text = damage[\"number\"]\n",
    "    frame = cv2.rectangle(frame, (x, y), (x+w, y+h), (0, 255, 0), 2)\n",
    "    frame = cv2.putText(frame, str(text), (x, y + h + 5), cv2.FONT_HERSHEY_SIMPLEX, 1.5, (0, 0, 0), 5)\n",
    "  \n",
    "  cv2.imshow(\"frame\", frame)\n",
    "  time.sleep(0.01)\n",
    "  if cv2.waitKey(1) & 0xFF == ord('q'):\n",
    "      store_frame = frame\n",
    "      break\n",
    "\n",
    "# out.release()\n",
    "cap.release()\n",
    "cv2.destroyAllWindows()"
   ]
  },
  {
   "cell_type": "code",
   "execution_count": null,
   "metadata": {},
   "outputs": [],
   "source": []
  }
 ],
 "metadata": {
  "interpreter": {
   "hash": "cfd232df1c3604325da8330b3df23b8cfbe295ae9f68e972eca3e8ca72de4dbb"
  },
  "kernelspec": {
   "display_name": "Python 3.8.13 ('opencv')",
   "language": "python",
   "name": "python3"
  },
  "language_info": {
   "codemirror_mode": {
    "name": "ipython",
    "version": 3
   },
   "file_extension": ".py",
   "mimetype": "text/x-python",
   "name": "python",
   "nbconvert_exporter": "python",
   "pygments_lexer": "ipython3",
   "version": "3.8.13"
  },
  "orig_nbformat": 4
 },
 "nbformat": 4,
 "nbformat_minor": 2
}
