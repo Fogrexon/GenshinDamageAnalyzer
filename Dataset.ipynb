{
 "cells": [
  {
   "cell_type": "code",
   "execution_count": 49,
   "metadata": {},
   "outputs": [],
   "source": [
    "import numpy as np\n",
    "import cv2\n",
    "from PIL import Image, ImageDraw, ImageFont, ImageChops\n",
    "import csv\n",
    "import math\n",
    "import random\n",
    "import os\n",
    "\n",
    "label = [[\"label\"]]\n",
    "\n",
    "for i in range(10000):\n",
    "  height = np.random.randint(15, 50)\n",
    "  number = int(random.uniform(1000 ** (1 / 4), 1500000 ** (1 / 4)) ** 4)\n",
    "  text = str(number)\n",
    "  image = Image.new('RGB', (height * 7, height))\n",
    "  draw = ImageDraw.Draw(image)\n",
    "  font = ImageFont.truetype('./font.ttf', height)\n",
    "  width = draw.textsize(text, font=font)[0]\n",
    "  draw.text((0, 0), text, fill=(255, 255, 255), font=font)\n",
    "  image = image.crop((0, 0, width, height))\n",
    "  # noise = Image.effect_noise((width, height), 100).convert('RGB')\n",
    "  # image = ImageChops.multiply(image, noise)\n",
    "  image = image.resize((200, 50), resample=Image.Resampling.BOX)\n",
    "  label.append([text])\n",
    "  image.save(f'./output/{i}.png')\n",
    "\n",
    "files = os.listdir('./gomi')\n",
    "\n",
    "for i in range(len(files)):\n",
    "  image = Image.open(f'./gomi/{files[i]}')\n",
    "  # noise = Image.effect_noise((width, height), 100).convert('RGB')\n",
    "  # image = ImageChops.multiply(image, noise)\n",
    "  image = image.resize((200, 50), resample=Image.Resampling.BOX)\n",
    "  label.append(['-'])\n",
    "  image.save(f'./output/{10000 + i}.png')\n",
    "\n",
    "f = open('data2.csv', 'w')\n",
    "writer = csv.writer(f)\n",
    "writer.writerows(label)\n",
    "f.close()\n",
    "\n"
   ]
  },
  {
   "cell_type": "code",
   "execution_count": null,
   "metadata": {},
   "outputs": [],
   "source": []
  },
  {
   "cell_type": "code",
   "execution_count": null,
   "metadata": {},
   "outputs": [],
   "source": []
  }
 ],
 "metadata": {
  "kernelspec": {
   "display_name": "opencv",
   "language": "python",
   "name": "opencv"
  },
  "language_info": {
   "codemirror_mode": {
    "name": "ipython",
    "version": 3
   },
   "file_extension": ".py",
   "mimetype": "text/x-python",
   "name": "python",
   "nbconvert_exporter": "python",
   "pygments_lexer": "ipython3",
   "version": "3.8.13"
  },
  "orig_nbformat": 4
 },
 "nbformat": 4,
 "nbformat_minor": 2
}
