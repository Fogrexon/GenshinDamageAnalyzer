{
 "cells": [
  {
   "cell_type": "code",
   "execution_count": 9,
   "metadata": {},
   "outputs": [],
   "source": [
    "import cv2"
   ]
  },
  {
   "cell_type": "code",
   "execution_count": 11,
   "metadata": {},
   "outputs": [],
   "source": [
    "\n",
    "filename = \"videos/long2\"\n",
    "cap = cv2.VideoCapture('./{}.mp4'.format(filename))\n",
    "fourcc = cv2.VideoWriter_fourcc('m', 'p', '4', 'v')\n",
    "frame_rate = int(cap.get(cv2.CAP_PROP_FPS))\n",
    "width = int(cap.get(cv2.CAP_PROP_FRAME_WIDTH))\n",
    "height = int(cap.get(cv2.CAP_PROP_FRAME_HEIGHT))\n",
    "colorKey = \"cyro\"\n",
    "prevFrameNumber = []\n",
    "import queue\n",
    "textQueue = queue.Queue()\n",
    "\n",
    "count = 0\n",
    "imageCount = 448\n",
    "\n",
    "frame_count = int(cap.get(cv2.CAP_PROP_FRAME_COUNT))\n",
    "\n",
    "while(cap.isOpened()):\n",
    "  ret, frame = cap.read()\n",
    "  count += 1\n",
    "  if count % 2 == 0:\n",
    "    continue\n",
    "  if count % 24 == 0:\n",
    "    print(count / frame_count * 100, '%')\n",
    "  if (not(ret)):\n",
    "    break\n",
    "  \n",
    "  cv2.imshow(\"frame\", frame)\n",
    "  key = cv2.waitKey(1) & 0xFF\n",
    "  if key == ord('q'):\n",
    "    break\n",
    "  if key == ord('t'):\n",
    "    cv2.imwrite(f\"./output/frames/{imageCount}.png\", frame)\n",
    "    imageCount += 1\n",
    "\n",
    "# out.release()\n",
    "cap.release()\n",
    "cv2.destroyAllWindows()"
   ]
  },
  {
   "cell_type": "code",
   "execution_count": null,
   "metadata": {},
   "outputs": [],
   "source": []
  }
 ],
 "metadata": {
  "kernelspec": {
   "display_name": "opencv",
   "language": "python",
   "name": "opencv"
  },
  "language_info": {
   "codemirror_mode": {
    "name": "ipython",
    "version": 3
   },
   "file_extension": ".py",
   "mimetype": "text/x-python",
   "name": "python",
   "nbconvert_exporter": "python",
   "pygments_lexer": "ipython3",
   "version": "3.8.13"
  },
  "orig_nbformat": 4
 },
 "nbformat": 4,
 "nbformat_minor": 2
}
